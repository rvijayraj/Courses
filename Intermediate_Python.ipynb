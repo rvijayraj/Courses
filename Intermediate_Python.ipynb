{
  "nbformat": 4,
  "nbformat_minor": 0,
  "metadata": {
    "colab": {
      "name": "Intermediate Python",
      "provenance": [],
      "authorship_tag": "ABX9TyMuKq1pxaCtfK09YqooaR9I",
      "include_colab_link": true
    },
    "kernelspec": {
      "name": "python3",
      "display_name": "Python 3"
    }
  },
  "cells": [
    {
      "cell_type": "markdown",
      "metadata": {
        "id": "view-in-github",
        "colab_type": "text"
      },
      "source": [
        "<a href=\"https://colab.research.google.com/github/rvijayraj/datacamp/blob/main/Intermediate_Python.ipynb\" target=\"_parent\"><img src=\"https://colab.research.google.com/assets/colab-badge.svg\" alt=\"Open In Colab\"/></a>"
      ]
    },
    {
      "cell_type": "markdown",
      "metadata": {
        "id": "tSe6laGivukj"
      },
      "source": [
        "***PANDAS PART -2 ***"
      ]
    },
    {
      "cell_type": "code",
      "metadata": {
        "id": "t9MaKnWC9yW6"
      },
      "source": [
        "# check for two errors"
      ],
      "execution_count": null,
      "outputs": []
    },
    {
      "cell_type": "markdown",
      "metadata": {
        "id": "uxuNikuyS8rU"
      },
      "source": [
        "PANDAS , COMPARISON OPERATORS , \n",
        "\n",
        "\n"
      ]
    },
    {
      "cell_type": "markdown",
      "metadata": {
        "id": "y9I-AvJ1TT7T"
      },
      "source": [
        "***PANDAS***"
      ]
    },
    {
      "cell_type": "code",
      "metadata": {
        "id": "eLKjz5SfvxKF"
      },
      "source": [
        "import pandas as pd"
      ],
      "execution_count": 1,
      "outputs": []
    },
    {
      "cell_type": "code",
      "metadata": {
        "colab": {
          "base_uri": "https://localhost:8080/",
          "height": 204
        },
        "id": "1SOVXW0BwIV2",
        "outputId": "0952e96f-aa17-4cc8-d873-d4f6e5d3c8e7"
      },
      "source": [
        "# converting brics.csv file into a dataframe. \n",
        "brics = pd.read_csv(\"brics.csv\",index_col = 0)\n",
        "brics"
      ],
      "execution_count": 2,
      "outputs": [
        {
          "output_type": "execute_result",
          "data": {
            "text/html": [
              "<div>\n",
              "<style scoped>\n",
              "    .dataframe tbody tr th:only-of-type {\n",
              "        vertical-align: middle;\n",
              "    }\n",
              "\n",
              "    .dataframe tbody tr th {\n",
              "        vertical-align: top;\n",
              "    }\n",
              "\n",
              "    .dataframe thead th {\n",
              "        text-align: right;\n",
              "    }\n",
              "</style>\n",
              "<table border=\"1\" class=\"dataframe\">\n",
              "  <thead>\n",
              "    <tr style=\"text-align: right;\">\n",
              "      <th></th>\n",
              "      <th>country</th>\n",
              "      <th>capital</th>\n",
              "      <th>area</th>\n",
              "      <th>population</th>\n",
              "    </tr>\n",
              "  </thead>\n",
              "  <tbody>\n",
              "    <tr>\n",
              "      <th>BR</th>\n",
              "      <td>Brazil</td>\n",
              "      <td>Brasilia</td>\n",
              "      <td>8.516</td>\n",
              "      <td>200.40</td>\n",
              "    </tr>\n",
              "    <tr>\n",
              "      <th>RU</th>\n",
              "      <td>Russia</td>\n",
              "      <td>Moscow</td>\n",
              "      <td>17.100</td>\n",
              "      <td>143.50</td>\n",
              "    </tr>\n",
              "    <tr>\n",
              "      <th>IN</th>\n",
              "      <td>India</td>\n",
              "      <td>New Delhi</td>\n",
              "      <td>3.286</td>\n",
              "      <td>1252.00</td>\n",
              "    </tr>\n",
              "    <tr>\n",
              "      <th>CH</th>\n",
              "      <td>China</td>\n",
              "      <td>Beijing</td>\n",
              "      <td>9.597</td>\n",
              "      <td>1357.00</td>\n",
              "    </tr>\n",
              "    <tr>\n",
              "      <th>SA</th>\n",
              "      <td>South Africa</td>\n",
              "      <td>Pretoria</td>\n",
              "      <td>1.221</td>\n",
              "      <td>52.98</td>\n",
              "    </tr>\n",
              "  </tbody>\n",
              "</table>\n",
              "</div>"
            ],
            "text/plain": [
              "         country    capital    area  population\n",
              "BR        Brazil   Brasilia   8.516      200.40\n",
              "RU        Russia     Moscow  17.100      143.50\n",
              "IN         India  New Delhi   3.286     1252.00\n",
              "CH         China    Beijing   9.597     1357.00\n",
              "SA  South Africa   Pretoria   1.221       52.98"
            ]
          },
          "metadata": {
            "tags": []
          },
          "execution_count": 2
        }
      ]
    },
    {
      "cell_type": "markdown",
      "metadata": {
        "id": "oz-Qjb6uzFnm"
      },
      "source": [
        "Column Access : Either Single or Mulitple Column names are speficied in square braces.\n"
      ]
    },
    {
      "cell_type": "code",
      "metadata": {
        "colab": {
          "base_uri": "https://localhost:8080/"
        },
        "id": "xsOPkKvAwSkL",
        "outputId": "ecb90bac-327d-4b61-e61a-e546d490e352"
      },
      "source": [
        "brics[\"country\"]"
      ],
      "execution_count": 3,
      "outputs": [
        {
          "output_type": "execute_result",
          "data": {
            "text/plain": [
              "BR          Brazil\n",
              "RU          Russia\n",
              "IN           India\n",
              "CH           China\n",
              "SA    South Africa\n",
              "Name: country, dtype: object"
            ]
          },
          "metadata": {
            "tags": []
          },
          "execution_count": 3
        }
      ]
    },
    {
      "cell_type": "markdown",
      "metadata": {
        "id": "Qof7j7dGybm8"
      },
      "source": [
        "Data Obtaining Types as \n",
        "\n",
        "1D Array : use single square braces.  Ex: brics[\"country\"] \n",
        "\n",
        "Data Frame : use double square braces.  Ex: brics[[\"country\"]]"
      ]
    },
    {
      "cell_type": "code",
      "metadata": {
        "colab": {
          "base_uri": "https://localhost:8080/"
        },
        "id": "5SB9cZdmyMce",
        "outputId": "19ab62a8-9030-4053-80af-81f4a42243e4"
      },
      "source": [
        "type(brics[\"country\"])  # this is a 1 D labelled array "
      ],
      "execution_count": 4,
      "outputs": [
        {
          "output_type": "execute_result",
          "data": {
            "text/plain": [
              "pandas.core.series.Series"
            ]
          },
          "metadata": {
            "tags": []
          },
          "execution_count": 4
        }
      ]
    },
    {
      "cell_type": "code",
      "metadata": {
        "colab": {
          "base_uri": "https://localhost:8080/"
        },
        "id": "s68wHcv4yGJz",
        "outputId": "f587f95e-6162-49bf-ed13-1f4ed902cc31"
      },
      "source": [
        "type(brics[[\"country\"]])  # this is a dataframe format. "
      ],
      "execution_count": 5,
      "outputs": [
        {
          "output_type": "execute_result",
          "data": {
            "text/plain": [
              "pandas.core.frame.DataFrame"
            ]
          },
          "metadata": {
            "tags": []
          },
          "execution_count": 5
        }
      ]
    },
    {
      "cell_type": "markdown",
      "metadata": {
        "id": "YknhlxO6yht9"
      },
      "source": [
        "Row Access: \n",
        "In the sqaure braces a data slice or range of data is specified."
      ]
    },
    {
      "cell_type": "code",
      "metadata": {
        "colab": {
          "base_uri": "https://localhost:8080/",
          "height": 142
        },
        "id": "iJqkCowBwjUd",
        "outputId": "33627f86-e92e-41dc-e5fb-b47816679f4f"
      },
      "source": [
        "brics[1:4]"
      ],
      "execution_count": 6,
      "outputs": [
        {
          "output_type": "execute_result",
          "data": {
            "text/html": [
              "<div>\n",
              "<style scoped>\n",
              "    .dataframe tbody tr th:only-of-type {\n",
              "        vertical-align: middle;\n",
              "    }\n",
              "\n",
              "    .dataframe tbody tr th {\n",
              "        vertical-align: top;\n",
              "    }\n",
              "\n",
              "    .dataframe thead th {\n",
              "        text-align: right;\n",
              "    }\n",
              "</style>\n",
              "<table border=\"1\" class=\"dataframe\">\n",
              "  <thead>\n",
              "    <tr style=\"text-align: right;\">\n",
              "      <th></th>\n",
              "      <th>country</th>\n",
              "      <th>capital</th>\n",
              "      <th>area</th>\n",
              "      <th>population</th>\n",
              "    </tr>\n",
              "  </thead>\n",
              "  <tbody>\n",
              "    <tr>\n",
              "      <th>RU</th>\n",
              "      <td>Russia</td>\n",
              "      <td>Moscow</td>\n",
              "      <td>17.100</td>\n",
              "      <td>143.5</td>\n",
              "    </tr>\n",
              "    <tr>\n",
              "      <th>IN</th>\n",
              "      <td>India</td>\n",
              "      <td>New Delhi</td>\n",
              "      <td>3.286</td>\n",
              "      <td>1252.0</td>\n",
              "    </tr>\n",
              "    <tr>\n",
              "      <th>CH</th>\n",
              "      <td>China</td>\n",
              "      <td>Beijing</td>\n",
              "      <td>9.597</td>\n",
              "      <td>1357.0</td>\n",
              "    </tr>\n",
              "  </tbody>\n",
              "</table>\n",
              "</div>"
            ],
            "text/plain": [
              "   country    capital    area  population\n",
              "RU  Russia     Moscow  17.100       143.5\n",
              "IN   India  New Delhi   3.286      1252.0\n",
              "CH   China    Beijing   9.597      1357.0"
            ]
          },
          "metadata": {
            "tags": []
          },
          "execution_count": 6
        }
      ]
    },
    {
      "cell_type": "markdown",
      "metadata": {
        "id": "10LHHgYwzwFl"
      },
      "source": [
        "loc (Location-Based)\n",
        "\n",
        "iloc (Integer Position Based)"
      ]
    },
    {
      "cell_type": "markdown",
      "metadata": {
        "id": "Prtkwo5Uz19g"
      },
      "source": [
        "Row loc : here single or multiple row labels are specified in loc function. "
      ]
    },
    {
      "cell_type": "code",
      "metadata": {
        "colab": {
          "base_uri": "https://localhost:8080/",
          "height": 142
        },
        "id": "nRl-yUPpwjaG",
        "outputId": "6f5ee095-06da-44cc-dac8-38edf624eefc"
      },
      "source": [
        "brics.loc[[\"RU\",\"IN\",\"CH\"]]"
      ],
      "execution_count": 7,
      "outputs": [
        {
          "output_type": "execute_result",
          "data": {
            "text/html": [
              "<div>\n",
              "<style scoped>\n",
              "    .dataframe tbody tr th:only-of-type {\n",
              "        vertical-align: middle;\n",
              "    }\n",
              "\n",
              "    .dataframe tbody tr th {\n",
              "        vertical-align: top;\n",
              "    }\n",
              "\n",
              "    .dataframe thead th {\n",
              "        text-align: right;\n",
              "    }\n",
              "</style>\n",
              "<table border=\"1\" class=\"dataframe\">\n",
              "  <thead>\n",
              "    <tr style=\"text-align: right;\">\n",
              "      <th></th>\n",
              "      <th>country</th>\n",
              "      <th>capital</th>\n",
              "      <th>area</th>\n",
              "      <th>population</th>\n",
              "    </tr>\n",
              "  </thead>\n",
              "  <tbody>\n",
              "    <tr>\n",
              "      <th>RU</th>\n",
              "      <td>Russia</td>\n",
              "      <td>Moscow</td>\n",
              "      <td>17.100</td>\n",
              "      <td>143.5</td>\n",
              "    </tr>\n",
              "    <tr>\n",
              "      <th>IN</th>\n",
              "      <td>India</td>\n",
              "      <td>New Delhi</td>\n",
              "      <td>3.286</td>\n",
              "      <td>1252.0</td>\n",
              "    </tr>\n",
              "    <tr>\n",
              "      <th>CH</th>\n",
              "      <td>China</td>\n",
              "      <td>Beijing</td>\n",
              "      <td>9.597</td>\n",
              "      <td>1357.0</td>\n",
              "    </tr>\n",
              "  </tbody>\n",
              "</table>\n",
              "</div>"
            ],
            "text/plain": [
              "   country    capital    area  population\n",
              "RU  Russia     Moscow  17.100       143.5\n",
              "IN   India  New Delhi   3.286      1252.0\n",
              "CH   China    Beijing   9.597      1357.0"
            ]
          },
          "metadata": {
            "tags": []
          },
          "execution_count": 7
        }
      ]
    },
    {
      "cell_type": "markdown",
      "metadata": {
        "id": "xWvsrpAx07Gd"
      },
      "source": [
        "Rows and Columns loc:  we speicify rows and columns just to select  few elements from whole set of data, as a result their interstection is returned. \n",
        "\n",
        "brics[[rows],[columns]]\n",
        "Ex: \n",
        "brics[[\"RU\",\"IN\",\"CH\"],[\"country\",\"capital\"]]"
      ]
    },
    {
      "cell_type": "code",
      "metadata": {
        "colab": {
          "base_uri": "https://localhost:8080/",
          "height": 142
        },
        "id": "WsFwdYbZwjc1",
        "outputId": "05f7d46c-0073-41dc-cd46-9f2a9216c7e4"
      },
      "source": [
        "brics.loc[[\"RU\",\"IN\",\"CH\"] , [\"country\",\"capital\"]]"
      ],
      "execution_count": 8,
      "outputs": [
        {
          "output_type": "execute_result",
          "data": {
            "text/html": [
              "<div>\n",
              "<style scoped>\n",
              "    .dataframe tbody tr th:only-of-type {\n",
              "        vertical-align: middle;\n",
              "    }\n",
              "\n",
              "    .dataframe tbody tr th {\n",
              "        vertical-align: top;\n",
              "    }\n",
              "\n",
              "    .dataframe thead th {\n",
              "        text-align: right;\n",
              "    }\n",
              "</style>\n",
              "<table border=\"1\" class=\"dataframe\">\n",
              "  <thead>\n",
              "    <tr style=\"text-align: right;\">\n",
              "      <th></th>\n",
              "      <th>country</th>\n",
              "      <th>capital</th>\n",
              "    </tr>\n",
              "  </thead>\n",
              "  <tbody>\n",
              "    <tr>\n",
              "      <th>RU</th>\n",
              "      <td>Russia</td>\n",
              "      <td>Moscow</td>\n",
              "    </tr>\n",
              "    <tr>\n",
              "      <th>IN</th>\n",
              "      <td>India</td>\n",
              "      <td>New Delhi</td>\n",
              "    </tr>\n",
              "    <tr>\n",
              "      <th>CH</th>\n",
              "      <td>China</td>\n",
              "      <td>Beijing</td>\n",
              "    </tr>\n",
              "  </tbody>\n",
              "</table>\n",
              "</div>"
            ],
            "text/plain": [
              "   country    capital\n",
              "RU  Russia     Moscow\n",
              "IN   India  New Delhi\n",
              "CH   China    Beijing"
            ]
          },
          "metadata": {
            "tags": []
          },
          "execution_count": 8
        }
      ]
    },
    {
      "cell_type": "markdown",
      "metadata": {
        "id": "GFM1JhiVIFoi"
      },
      "source": [
        "Row Access iloc : \n",
        "\n",
        "we define the index of rows instead of giving row labels\n",
        "Ex: brics.iloc[[1,2,3]]"
      ]
    },
    {
      "cell_type": "code",
      "metadata": {
        "colab": {
          "base_uri": "https://localhost:8080/",
          "height": 142
        },
        "id": "mujOtgmJH0ck",
        "outputId": "b668d5b3-435b-4521-a521-ea6f6a609029"
      },
      "source": [
        " brics.iloc[[1,2,3]]"
      ],
      "execution_count": 9,
      "outputs": [
        {
          "output_type": "execute_result",
          "data": {
            "text/html": [
              "<div>\n",
              "<style scoped>\n",
              "    .dataframe tbody tr th:only-of-type {\n",
              "        vertical-align: middle;\n",
              "    }\n",
              "\n",
              "    .dataframe tbody tr th {\n",
              "        vertical-align: top;\n",
              "    }\n",
              "\n",
              "    .dataframe thead th {\n",
              "        text-align: right;\n",
              "    }\n",
              "</style>\n",
              "<table border=\"1\" class=\"dataframe\">\n",
              "  <thead>\n",
              "    <tr style=\"text-align: right;\">\n",
              "      <th></th>\n",
              "      <th>country</th>\n",
              "      <th>capital</th>\n",
              "      <th>area</th>\n",
              "      <th>population</th>\n",
              "    </tr>\n",
              "  </thead>\n",
              "  <tbody>\n",
              "    <tr>\n",
              "      <th>RU</th>\n",
              "      <td>Russia</td>\n",
              "      <td>Moscow</td>\n",
              "      <td>17.100</td>\n",
              "      <td>143.5</td>\n",
              "    </tr>\n",
              "    <tr>\n",
              "      <th>IN</th>\n",
              "      <td>India</td>\n",
              "      <td>New Delhi</td>\n",
              "      <td>3.286</td>\n",
              "      <td>1252.0</td>\n",
              "    </tr>\n",
              "    <tr>\n",
              "      <th>CH</th>\n",
              "      <td>China</td>\n",
              "      <td>Beijing</td>\n",
              "      <td>9.597</td>\n",
              "      <td>1357.0</td>\n",
              "    </tr>\n",
              "  </tbody>\n",
              "</table>\n",
              "</div>"
            ],
            "text/plain": [
              "   country    capital    area  population\n",
              "RU  Russia     Moscow  17.100       143.5\n",
              "IN   India  New Delhi   3.286      1252.0\n",
              "CH   China    Beijing   9.597      1357.0"
            ]
          },
          "metadata": {
            "tags": []
          },
          "execution_count": 9
        }
      ]
    },
    {
      "cell_type": "code",
      "metadata": {
        "colab": {
          "base_uri": "https://localhost:8080/",
          "height": 142
        },
        "id": "km_-OEopH0oj",
        "outputId": "c3988433-9889-42fd-c6bb-8f59defb113b"
      },
      "source": [
        "#Both Rows and Columns using iloc : \n",
        "\n",
        "brics.iloc[[1,2,3],[0,1]]"
      ],
      "execution_count": 10,
      "outputs": [
        {
          "output_type": "execute_result",
          "data": {
            "text/html": [
              "<div>\n",
              "<style scoped>\n",
              "    .dataframe tbody tr th:only-of-type {\n",
              "        vertical-align: middle;\n",
              "    }\n",
              "\n",
              "    .dataframe tbody tr th {\n",
              "        vertical-align: top;\n",
              "    }\n",
              "\n",
              "    .dataframe thead th {\n",
              "        text-align: right;\n",
              "    }\n",
              "</style>\n",
              "<table border=\"1\" class=\"dataframe\">\n",
              "  <thead>\n",
              "    <tr style=\"text-align: right;\">\n",
              "      <th></th>\n",
              "      <th>country</th>\n",
              "      <th>capital</th>\n",
              "    </tr>\n",
              "  </thead>\n",
              "  <tbody>\n",
              "    <tr>\n",
              "      <th>RU</th>\n",
              "      <td>Russia</td>\n",
              "      <td>Moscow</td>\n",
              "    </tr>\n",
              "    <tr>\n",
              "      <th>IN</th>\n",
              "      <td>India</td>\n",
              "      <td>New Delhi</td>\n",
              "    </tr>\n",
              "    <tr>\n",
              "      <th>CH</th>\n",
              "      <td>China</td>\n",
              "      <td>Beijing</td>\n",
              "    </tr>\n",
              "  </tbody>\n",
              "</table>\n",
              "</div>"
            ],
            "text/plain": [
              "   country    capital\n",
              "RU  Russia     Moscow\n",
              "IN   India  New Delhi\n",
              "CH   China    Beijing"
            ]
          },
          "metadata": {
            "tags": []
          },
          "execution_count": 10
        }
      ]
    },
    {
      "cell_type": "code",
      "metadata": {
        "colab": {
          "base_uri": "https://localhost:8080/",
          "height": 204
        },
        "id": "N-TaK9_WH0sH",
        "outputId": "c739a4b0-c869-4030-d9a5-4c1a1cc44b3e"
      },
      "source": [
        "# to keep all rows and only two selected columns: \n",
        "\n",
        "brics.iloc[:,[0,1]]"
      ],
      "execution_count": 11,
      "outputs": [
        {
          "output_type": "execute_result",
          "data": {
            "text/html": [
              "<div>\n",
              "<style scoped>\n",
              "    .dataframe tbody tr th:only-of-type {\n",
              "        vertical-align: middle;\n",
              "    }\n",
              "\n",
              "    .dataframe tbody tr th {\n",
              "        vertical-align: top;\n",
              "    }\n",
              "\n",
              "    .dataframe thead th {\n",
              "        text-align: right;\n",
              "    }\n",
              "</style>\n",
              "<table border=\"1\" class=\"dataframe\">\n",
              "  <thead>\n",
              "    <tr style=\"text-align: right;\">\n",
              "      <th></th>\n",
              "      <th>country</th>\n",
              "      <th>capital</th>\n",
              "    </tr>\n",
              "  </thead>\n",
              "  <tbody>\n",
              "    <tr>\n",
              "      <th>BR</th>\n",
              "      <td>Brazil</td>\n",
              "      <td>Brasilia</td>\n",
              "    </tr>\n",
              "    <tr>\n",
              "      <th>RU</th>\n",
              "      <td>Russia</td>\n",
              "      <td>Moscow</td>\n",
              "    </tr>\n",
              "    <tr>\n",
              "      <th>IN</th>\n",
              "      <td>India</td>\n",
              "      <td>New Delhi</td>\n",
              "    </tr>\n",
              "    <tr>\n",
              "      <th>CH</th>\n",
              "      <td>China</td>\n",
              "      <td>Beijing</td>\n",
              "    </tr>\n",
              "    <tr>\n",
              "      <th>SA</th>\n",
              "      <td>South Africa</td>\n",
              "      <td>Pretoria</td>\n",
              "    </tr>\n",
              "  </tbody>\n",
              "</table>\n",
              "</div>"
            ],
            "text/plain": [
              "         country    capital\n",
              "BR        Brazil   Brasilia\n",
              "RU        Russia     Moscow\n",
              "IN         India  New Delhi\n",
              "CH         China    Beijing\n",
              "SA  South Africa   Pretoria"
            ]
          },
          "metadata": {
            "tags": []
          },
          "execution_count": 11
        }
      ]
    },
    {
      "cell_type": "markdown",
      "metadata": {
        "id": "vOsp5iV1Ti_v"
      },
      "source": [
        "***COMPARISION OPERATORS***"
      ]
    },
    {
      "cell_type": "code",
      "metadata": {
        "colab": {
          "base_uri": "https://localhost:8080/"
        },
        "id": "CVXuVtT_H0u2",
        "outputId": "7e80a7fa-9fae-479f-aea3-0495e29f410a"
      },
      "source": [
        "\"carl\" > \"chris\""
      ],
      "execution_count": 12,
      "outputs": [
        {
          "output_type": "execute_result",
          "data": {
            "text/plain": [
              "False"
            ]
          },
          "metadata": {
            "tags": []
          },
          "execution_count": 12
        }
      ]
    },
    {
      "cell_type": "code",
      "metadata": {
        "colab": {
          "base_uri": "https://localhost:8080/",
          "height": 163
        },
        "id": "_qa0h0s8H0xf",
        "outputId": "ef3664f2-d10c-4bc9-8276-131327037211"
      },
      "source": [
        "3 < \"chris\"   #we can't compare two data types , int and string"
      ],
      "execution_count": 13,
      "outputs": [
        {
          "output_type": "error",
          "ename": "TypeError",
          "evalue": "ignored",
          "traceback": [
            "\u001b[0;31m---------------------------------------------------------------------------\u001b[0m",
            "\u001b[0;31mTypeError\u001b[0m                                 Traceback (most recent call last)",
            "\u001b[0;32m<ipython-input-13-30ce5d8abda2>\u001b[0m in \u001b[0;36m<module>\u001b[0;34m()\u001b[0m\n\u001b[0;32m----> 1\u001b[0;31m \u001b[0;36m3\u001b[0m \u001b[0;34m<\u001b[0m \u001b[0;34m\"chris\"\u001b[0m   \u001b[0;31m#we can't compare two data types , int and string\u001b[0m\u001b[0;34m\u001b[0m\u001b[0;34m\u001b[0m\u001b[0m\n\u001b[0m",
            "\u001b[0;31mTypeError\u001b[0m: '<' not supported between instances of 'int' and 'str'"
          ]
        }
      ]
    },
    {
      "cell_type": "markdown",
      "metadata": {
        "id": "tECm9ek54Asb"
      },
      "source": [
        "LOGIC CONTROL FLOW AND FILTERING"
      ]
    },
    {
      "cell_type": "code",
      "metadata": {
        "id": "vdEr0LNPH042"
      },
      "source": [
        "x = 8\n",
        "y = 9\n",
        "not(not(x < 3) and not(y > 14 or y > 10))"
      ],
      "execution_count": null,
      "outputs": []
    },
    {
      "cell_type": "code",
      "metadata": {
        "id": "FurtvLMpH08b"
      },
      "source": [
        "area = 10.0\n",
        "if(area < 9) :\n",
        "    print(\"small\")\n",
        "elif(area < 12) :\n",
        "    print(\"medium\")\n",
        "else :\n",
        "    print(\"large\")"
      ],
      "execution_count": null,
      "outputs": []
    },
    {
      "cell_type": "code",
      "metadata": {
        "id": "26CBLdtUH0_Z"
      },
      "source": [
        "import pandas as pd\n",
        "brics = pd.read_csv(\"brics.csv\",index_col = 0)\n",
        "brics"
      ],
      "execution_count": null,
      "outputs": []
    },
    {
      "cell_type": "markdown",
      "metadata": {
        "id": "SzjRVJwIKanz"
      },
      "source": [
        "From the above dataframe, select countries with over 8 million population.\n",
        "\n",
        "We follow 3 steps to achieve this ; \n",
        "\n",
        "Step 1 : Get Area Column. \n",
        "\n",
        "Step 2 : Compare the dataframe  with 8 \n",
        "\n",
        "Step 3: Subset Data Frame. "
      ]
    },
    {
      "cell_type": "code",
      "metadata": {
        "id": "QtLY4T1QH1CF"
      },
      "source": [
        "#step-1: \n",
        "brics[\"area\"]"
      ],
      "execution_count": null,
      "outputs": []
    },
    {
      "cell_type": "code",
      "metadata": {
        "id": "vDwL3nkwH1Ew"
      },
      "source": [
        "#step-2: \n",
        "brics[\"area\"] > 8   "
      ],
      "execution_count": null,
      "outputs": []
    },
    {
      "cell_type": "code",
      "metadata": {
        "id": "QtxBPPatLFxR"
      },
      "source": [
        "#now this boolen series is stored in is_huge\n",
        "\n",
        "is_huge = brics [\"area\"] > 8 "
      ],
      "execution_count": null,
      "outputs": []
    },
    {
      "cell_type": "code",
      "metadata": {
        "id": "5M4RPxmRLF0j"
      },
      "source": [
        "#step-3: Subsetting  the data frame. \n",
        "#here we simply call; is_huge variable which has series of values above 8 million by using it as index in brics[]\n",
        "\n",
        "is_huge = brics[brics[area]>8]"
      ],
      "execution_count": null,
      "outputs": []
    },
    {
      "cell_type": "code",
      "metadata": {
        "id": "UTFrCMgGLF6M"
      },
      "source": [
        "#suppose if we need 8 and 10 million sq kms then \n",
        "# we use logical_and is used\n",
        "\n",
        "# np.logical_and(brics[\"area\"] > 8 , brics[\"area\"] < 10 )   - this code gives boolean series\n",
        "\n",
        "import numpy as np \n",
        "\n",
        "# now this boolean series code is placed inside brics to  obtian values. \n",
        "\n",
        "brics[np.logical_and(brics[\"area\"] > 8 , brics[\"area\"] < 10 )]"
      ],
      "execution_count": null,
      "outputs": []
    },
    {
      "cell_type": "code",
      "metadata": {
        "id": "niX53BllLF8t"
      },
      "source": [
        "#DRIVING RIGHT(1)"
      ],
      "execution_count": null,
      "outputs": []
    },
    {
      "cell_type": "code",
      "metadata": {
        "id": "Ib8iJZviLF_Z"
      },
      "source": [
        ""
      ],
      "execution_count": null,
      "outputs": []
    },
    {
      "cell_type": "code",
      "metadata": {
        "id": "vWCdEG9zLGCD"
      },
      "source": [
        "cpc = \n",
        "many_cars = \n",
        "car_maniac = cars[cars['cars_per_cap'] > 500]"
      ],
      "execution_count": null,
      "outputs": []
    },
    {
      "cell_type": "markdown",
      "metadata": {
        "id": "YIto0BcX95NF"
      },
      "source": [
        "  WHILE LOOP: \r\n",
        "   \r\n",
        "   while condition=:\r\n",
        "        expression\r\n",
        "* Numerically calculating model \"repeaating actionuntil condition is met\""
      ]
    },
    {
      "cell_type": "code",
      "metadata": {
        "id": "Z5NALkHYLGEz",
        "colab": {
          "base_uri": "https://localhost:8080/"
        },
        "outputId": "a799f5c6-e4bb-4ebf-84c8-94c2e6d8754c"
      },
      "source": [
        "error = 50.0 \r\n",
        "while error > 1:\r\n",
        "  error = error / 4 \r\n",
        "  print(error)"
      ],
      "execution_count": 14,
      "outputs": [
        {
          "output_type": "stream",
          "text": [
            "12.5\n",
            "3.125\n",
            "0.78125\n"
          ],
          "name": "stdout"
        }
      ]
    },
    {
      "cell_type": "markdown",
      "metadata": {
        "id": "fRdaPL_nPpvm"
      },
      "source": [
        "Loop over list of lists: \r\n",
        "\r\n",
        "Write a for loop that goes through each sublist of house \r\n",
        "and prints out the x is y sqm, \r\n",
        "where x is the name of the room and y is the area of the room.\r\n"
      ]
    },
    {
      "cell_type": "code",
      "metadata": {
        "colab": {
          "base_uri": "https://localhost:8080/"
        },
        "id": "hvi_MKTj-ZfJ",
        "outputId": "4f5a98ad-6eca-4188-a70a-2894ec101457"
      },
      "source": [
        "house = [[\"hallway\", 11.25], \r\n",
        "         [\"kitchen\", 18.0], \r\n",
        "         [\"living room\", 20.0], \r\n",
        "         [\"bedroom\", 10.75], \r\n",
        "         [\"bathroom\", 9.50]]\r\n",
        "    \r\n",
        "for room, area in house:\r\n",
        "    print(\"the \" + str(room) + \" is \" + str(area) + \" sqm\")"
      ],
      "execution_count": 19,
      "outputs": [
        {
          "output_type": "stream",
          "text": [
            "the hallway is 11.25 sqm\n",
            "the kitchen is 18.0 sqm\n",
            "the living room is 20.0 sqm\n",
            "the bedroom is 10.75 sqm\n",
            "the bathroom is 9.5 sqm\n"
          ],
          "name": "stdout"
        }
      ]
    },
    {
      "cell_type": "markdown",
      "metadata": {
        "id": "uUhiLGqIo0Rm"
      },
      "source": [
        "**LOOP DATA STRUCTURES - PART-2:** \r\n",
        "iterrows method is used \r\n",
        "iterrows looks at each itertation and generates  two pieces of data label of rows and actual pandas series.\r\n",
        "\r\n",
        "for lab , row in bircs.iterrows(): \r\n",
        "\r\n",
        "lab = labels of rows or row labels. \r\n",
        "row = row data. "
      ]
    },
    {
      "cell_type": "code",
      "metadata": {
        "colab": {
          "base_uri": "https://localhost:8080/",
          "height": 204
        },
        "id": "TIsfzt_7-Zlb",
        "outputId": "05bd6ecf-f0be-4436-f478-10909d8a2f07"
      },
      "source": [
        "import pandas as pd \r\n",
        "\r\n",
        "brics = pd.read_csv(\"brics.csv\", index_col = 0)\r\n",
        "\r\n",
        "brics"
      ],
      "execution_count": 23,
      "outputs": [
        {
          "output_type": "execute_result",
          "data": {
            "text/html": [
              "<div>\n",
              "<style scoped>\n",
              "    .dataframe tbody tr th:only-of-type {\n",
              "        vertical-align: middle;\n",
              "    }\n",
              "\n",
              "    .dataframe tbody tr th {\n",
              "        vertical-align: top;\n",
              "    }\n",
              "\n",
              "    .dataframe thead th {\n",
              "        text-align: right;\n",
              "    }\n",
              "</style>\n",
              "<table border=\"1\" class=\"dataframe\">\n",
              "  <thead>\n",
              "    <tr style=\"text-align: right;\">\n",
              "      <th></th>\n",
              "      <th>country</th>\n",
              "      <th>capital</th>\n",
              "      <th>area</th>\n",
              "      <th>population</th>\n",
              "    </tr>\n",
              "  </thead>\n",
              "  <tbody>\n",
              "    <tr>\n",
              "      <th>BR</th>\n",
              "      <td>Brazil</td>\n",
              "      <td>Brasilia</td>\n",
              "      <td>8.516</td>\n",
              "      <td>200.40</td>\n",
              "    </tr>\n",
              "    <tr>\n",
              "      <th>RU</th>\n",
              "      <td>Russia</td>\n",
              "      <td>Moscow</td>\n",
              "      <td>17.100</td>\n",
              "      <td>143.50</td>\n",
              "    </tr>\n",
              "    <tr>\n",
              "      <th>IN</th>\n",
              "      <td>India</td>\n",
              "      <td>New Delhi</td>\n",
              "      <td>3.286</td>\n",
              "      <td>1252.00</td>\n",
              "    </tr>\n",
              "    <tr>\n",
              "      <th>CH</th>\n",
              "      <td>China</td>\n",
              "      <td>Beijing</td>\n",
              "      <td>9.597</td>\n",
              "      <td>1357.00</td>\n",
              "    </tr>\n",
              "    <tr>\n",
              "      <th>SA</th>\n",
              "      <td>South Africa</td>\n",
              "      <td>Pretoria</td>\n",
              "      <td>1.221</td>\n",
              "      <td>52.98</td>\n",
              "    </tr>\n",
              "  </tbody>\n",
              "</table>\n",
              "</div>"
            ],
            "text/plain": [
              "         country    capital    area  population\n",
              "BR        Brazil   Brasilia   8.516      200.40\n",
              "RU        Russia     Moscow  17.100      143.50\n",
              "IN         India  New Delhi   3.286     1252.00\n",
              "CH         China    Beijing   9.597     1357.00\n",
              "SA  South Africa   Pretoria   1.221       52.98"
            ]
          },
          "metadata": {
            "tags": []
          },
          "execution_count": 23
        }
      ]
    },
    {
      "cell_type": "code",
      "metadata": {
        "colab": {
          "base_uri": "https://localhost:8080/"
        },
        "id": "x4W7qvarqaxO",
        "outputId": "b67f27e9-bd3a-4f89-ae85-40baeb828387"
      },
      "source": [
        "#looping on data frame\r\n",
        "import pandas as pd\r\n",
        "\r\n",
        "brics = pd.read_csv(\"brics.csv\", index_col = 0)\r\n",
        "\r\n",
        "for lab , row in brics.iterrows():\r\n",
        "  print(lab)\r\n",
        "  print(row)"
      ],
      "execution_count": 26,
      "outputs": [
        {
          "output_type": "stream",
          "text": [
            "BR\n",
            "country         Brazil\n",
            "capital       Brasilia\n",
            "area             8.516\n",
            "population       200.4\n",
            "Name: BR, dtype: object\n",
            "RU\n",
            "country       Russia\n",
            "capital       Moscow\n",
            "area            17.1\n",
            "population     143.5\n",
            "Name: RU, dtype: object\n",
            "IN\n",
            "country           India\n",
            "capital       New Delhi\n",
            "area              3.286\n",
            "population         1252\n",
            "Name: IN, dtype: object\n",
            "CH\n",
            "country         China\n",
            "capital       Beijing\n",
            "area            9.597\n",
            "population       1357\n",
            "Name: CH, dtype: object\n",
            "SA\n",
            "country       South Africa\n",
            "capital           Pretoria\n",
            "area                 1.221\n",
            "population           52.98\n",
            "Name: SA, dtype: object\n"
          ],
          "name": "stdout"
        }
      ]
    },
    {
      "cell_type": "code",
      "metadata": {
        "id": "8jJYoMKhrgrH"
      },
      "source": [
        "# SELECTIVE PRINT\r\n",
        "# If we want to select only a specifi row , for instance capital in our case , then we just mention it in print statement. \r\n",
        "\r\n",
        "# We're required to print \"capital \" column \r\n",
        "import pandas as pd\r\n",
        "brics = pd.read_csv(\"brics.csv\", index_col = 0)\r\n",
        "from lab , row in brics.iterrows():\r\n",
        "print(lab + \"+ \" + row[\"capital\"])\r\n"
      ],
      "execution_count": null,
      "outputs": []
    },
    {
      "cell_type": "code",
      "metadata": {
        "colab": {
          "base_uri": "https://localhost:8080/"
        },
        "id": "j9Icgrf-rg1d",
        "outputId": "e609969d-bcb0-4988-e94a-3653cb1ccfac"
      },
      "source": [
        "brics.loc[lab,\"name_length\"] = len(row[\"country\"])\r\n",
        "print(brics)"
      ],
      "execution_count": 32,
      "outputs": [
        {
          "output_type": "stream",
          "text": [
            "         country    capital    area  population  name_lenght  name_length\n",
            "BR        Brazil   Brasilia   8.516      200.40          NaN          NaN\n",
            "RU        Russia     Moscow  17.100      143.50          NaN          NaN\n",
            "IN         India  New Delhi   3.286     1252.00          NaN          NaN\n",
            "CH         China    Beijing   9.597     1357.00          NaN          NaN\n",
            "SA  South Africa   Pretoria   1.221       52.98         12.0         12.0\n"
          ],
          "name": "stdout"
        }
      ]
    },
    {
      "cell_type": "markdown",
      "metadata": {
        "id": "SlvyID5k0AzW"
      },
      "source": [
        "ADDING A NEW COLUMN: \r\n",
        "\r\n",
        "import pandas as pd\r\n",
        "\r\n",
        "brics = pd.read_csv(\"brics.csv\", index_col = 0)\r\n",
        "\r\n",
        "for lab , row in brics.iterrows():\r\n",
        "\r\n",
        "  brics.loc[lab,\"name_length\"] = len(row[\"country\"])\r\n",
        "\r\n",
        "print(brics)"
      ]
    },
    {
      "cell_type": "markdown",
      "metadata": {
        "id": "EcoATN8KyQx_"
      },
      "source": [
        "**for lab , row in brics.iterrows():** - for loop is used to create a series on every iteration. \r\n",
        "\r\n",
        "\r\n",
        "**len(row[\"country\"]) - Length of each country name**\r\n",
        "\r\n",
        "**len()** - determines number of characters in a string. \r\n",
        "\r\n",
        "Its done by selecting country column from row and then passing it to length function. \r\n",
        "\r\n",
        "**brics.loc[lab,\"name_length\"] - to add column at appropriate location. **\r\n",
        "\r\n",
        "\r\n",
        "The above obtained length information is then added to the new column at the appropriate location. \r\n",
        "\r\n",
        "**loc()** is used to find the label based location.  "
      ]
    },
    {
      "cell_type": "code",
      "metadata": {
        "colab": {
          "base_uri": "https://localhost:8080/"
        },
        "id": "PwAziIgN0UKb",
        "outputId": "c7845315-a0e2-47dc-a13b-e6596fe45795"
      },
      "source": [
        "import pandas as pd\r\n",
        "brics = pd.read_csv(\"brics.csv\", index_col = 0)\r\n",
        "for lab , row in brics.iterrows():\r\n",
        "  brics.loc[lab,\"name_length\"] = len(row[\"country\"])\r\n",
        "print(brics)"
      ],
      "execution_count": 33,
      "outputs": [
        {
          "output_type": "stream",
          "text": [
            "         country    capital    area  population  name_length\n",
            "BR        Brazil   Brasilia   8.516      200.40          6.0\n",
            "RU        Russia     Moscow  17.100      143.50          6.0\n",
            "IN         India  New Delhi   3.286     1252.00          5.0\n",
            "CH         China    Beijing   9.597     1357.00          5.0\n",
            "SA  South Africa   Pretoria   1.221       52.98         12.0\n"
          ],
          "name": "stdout"
        }
      ]
    },
    {
      "cell_type": "markdown",
      "metadata": {
        "id": "Btk8KuXD1hZE"
      },
      "source": [
        "**Problem with above approach: **\r\n",
        "The above code is nice but not efficient on as a new object is created on every iteration. \r\n",
        "\r\n",
        "For small data sets it doesnt matter but for large database it would be a loss in efficiency. \r\n",
        "\r\n",
        "**Solution:**\r\n",
        "Using APPLY FUNCTION . "
      ]
    },
    {
      "cell_type": "code",
      "metadata": {
        "colab": {
          "base_uri": "https://localhost:8080/"
        },
        "id": "YhcQIe_L1gu8",
        "outputId": "77a5e74b-fe50-4cef-c2e5-d41ef32146f9"
      },
      "source": [
        "# APPLY  FUNCTION. \r\n",
        "\r\n",
        "import pandas as pd\r\n",
        "brics = pd.read_csv(\"brics.csv\",index_col = 0)\r\n",
        "brics[\"name_length\"] = brics[\"country\"].apply(len)\r\n",
        "print(brics)"
      ],
      "execution_count": 35,
      "outputs": [
        {
          "output_type": "stream",
          "text": [
            "         country    capital    area  population  name_length\n",
            "BR        Brazil   Brasilia   8.516      200.40            6\n",
            "RU        Russia     Moscow  17.100      143.50            6\n",
            "IN         India  New Delhi   3.286     1252.00            5\n",
            "CH         China    Beijing   9.597     1357.00            5\n",
            "SA  South Africa   Pretoria   1.221       52.98           12\n"
          ],
          "name": "stdout"
        }
      ]
    },
    {
      "cell_type": "markdown",
      "metadata": {
        "id": "tGgNKzrZ5s0F"
      },
      "source": [
        "Due to APPLY FUNCTION there's no need of using FOR LOOP \r\n",
        "\r\n",
        "Here country column is selected from brics data frame and on this column,  length function is applied. \r\n",
        "\r\n",
        "Apply calls len function with each country name as input and produces a new array, that you can easily store as a new columnn called as \"name_length\". "
      ]
    }
  ]
}