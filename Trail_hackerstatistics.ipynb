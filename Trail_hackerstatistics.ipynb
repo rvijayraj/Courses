{
  "nbformat": 4,
  "nbformat_minor": 0,
  "metadata": {
    "colab": {
      "name": "CaseStudy_1_HACKER STATISTICS",
      "provenance": [],
      "authorship_tag": "ABX9TyN0AtJho79NrSjJLgORzRdt",
      "include_colab_link": true
    },
    "kernelspec": {
      "name": "python3",
      "display_name": "Python 3"
    }
  },
  "cells": [
    {
      "cell_type": "markdown",
      "metadata": {
        "id": "view-in-github",
        "colab_type": "text"
      },
      "source": [
        "<a href=\"https://colab.research.google.com/github/rvijayraj/datacamp/blob/main/CaseStudy_1_HACKER_STATISTICS.ipynb\" target=\"_parent\"><img src=\"https://colab.research.google.com/assets/colab-badge.svg\" alt=\"Open In Colab\"/></a>"
      ]
    },
    {
      "cell_type": "markdown",
      "metadata": {
        "id": "4JJt7-LtAvCA"
      },
      "source": [
        "** *italicised text*HACKER STATISTICS or EMPIRE STATE BUILDING GAME**\r\n",
        "\r\n",
        "Imagine the following: you're walking up the empire state building to DataCamp HeadQuarters and you're playing a game with a friend.\r\n",
        "\r\n",
        "You throw a dice **100 times**.\r\n",
        "*   If it's 1 or 2 you'll go one step down.\r\n",
        "*   If it's 3, 4, or 5, you'll go one step up.\r\n",
        "*   If you throw a 6, you'll throw the die again and will walk up the resulting number of steps.\r\n",
        "*   Of course, you can not go lower than step number 0. And also, you admit that you're a bit clumsy and have a chance of 0.1% of falling down the stairs when you make a move. Falling down means that you have to start again from step 0.\r\n",
        "\r\n",
        "With all of this in mind, you bet with your friend that you'll reach 60 steps high.\r\n",
        "\r\n",
        "**Solution Types:** \r\n",
        "1. Analytical : Using Equations. \r\n",
        "2. Simulation  : Run simulations and check at which fraction of simulation we can reach 60 steps. \r\n",
        "\r\n",
        "We'll consider **Simulation** and this problems is called \r\n",
        "\r\n",
        "**HACKER STATISTICS** "
      ]
    },
    {
      "cell_type": "markdown",
      "metadata": {
        "id": "VAUIMCHBut7C"
      },
      "source": [
        "EXPECTED OUTCOMES AND FLOW OF PROGRAM or what ever you take it : \r\n",
        "\r\n",
        "  1. SImulate the Random Numbers\r\n",
        "  2. COnnect the rolling dice with taking steps.\r\n",
        "  3. DEtermine your next move.\r\n",
        "  4. DEtermine your next step\r\n",
        "  5. WHat distance can be traversed? \r\n",
        "  6. Visualizing the walk.\r\n",
        "  7. Distribution of failing cases\r\n",
        "  8. SImulating multiple walks\r\n",
        "  9. VIsualizing all the walks.\r\n",
        "  10. IMplementing clumsiness.\r\n",
        "  11. PLot the distributions\r\n",
        "  12. CAlculate the Odds."
      ]
    },
    {
      "cell_type": "markdown",
      "metadata": {
        "id": "BjaSgcvqCues"
      },
      "source": [
        "                          Things Needed: \r\n",
        "Random Generator : \r\n",
        "\r\n",
        "It randomly generates the numbers. \r\n",
        "\r\n",
        "Exists in Random package in NumPy Library.  \r\n",
        "\r\n",
        "Generates random values using seed function. \r\n",
        "\r\n",
        "We can mention see values, else ny default a random value is generated. \r\n",
        "\r\n",
        "Same seed value gives same random values esuring reproducibility, due to which its called Pseudo Random.  \r\n",
        "\r\n",
        "Syntax: \r\n",
        " import numpy as np \r\n",
        " np.random.randn.seed()\r\n",
        " coin = np.random.randint()\r\n",
        " print(coin) \r\n",
        " "
      ]
    },
    {
      "cell_type": "code",
      "metadata": {
        "colab": {
          "base_uri": "https://localhost:8080/"
        },
        "id": "xC6K8gYyAx_d",
        "outputId": "6bb4194d-a2a4-4a7b-8159-a1f53d6d540f"
      },
      "source": [
        " import numpy as np \r\n",
        " np.random.seed()\r\n",
        " coin = np.random.randint(0,2)\r\n",
        " print(coin) "
      ],
      "execution_count": null,
      "outputs": [
        {
          "output_type": "stream",
          "text": [
            "1\n"
          ],
          "name": "stdout"
        }
      ]
    },
    {
      "cell_type": "markdown",
      "metadata": {
        "id": "yIsL66NOntj_"
      },
      "source": [
        "RANDOM STEP: \r\n",
        "\r\n",
        "If a dice outcome is used to take steps, then its a random step. "
      ]
    },
    {
      "cell_type": "code",
      "metadata": {
        "colab": {
          "base_uri": "https://localhost:8080/"
        },
        "id": "-3s9WzXEhAhT",
        "outputId": "a9dc6193-f4af-4a61-cfa8-e307fc39b89c"
      },
      "source": [
        "import numpy as np \r\n",
        "\r\n",
        "# Set the seed\r\n",
        "np.random.seed(123)\r\n",
        "# Generate and print random float\r\n",
        "print(np.random.rand())\r\n",
        "\r\n",
        "# Numpy is imported, seed is set\r\n",
        "\r\n",
        "# Starting step\r\n",
        "step = 50\r\n",
        "\r\n",
        "# Roll the dice\r\n",
        "dice = np.random.randint(1,7)\r\n",
        "\r\n",
        "# Finish the control construct\r\n",
        "if dice <= 2 :\r\n",
        "    step = step - 1\r\n",
        "elif dice == 3 or dice == 4 or dice == 5 :\r\n",
        "    step = step + 1 \r\n",
        "else :\r\n",
        "    step = step + np.random.randint(1,7)\r\n",
        "\r\n",
        "# Print out dice and step\r\n",
        "print(dice)\r\n",
        "print(step)"
      ],
      "execution_count": null,
      "outputs": [
        {
          "output_type": "stream",
          "text": [
            "0.6964691855978616\n",
            "3\n",
            "51\n"
          ],
          "name": "stdout"
        }
      ]
    },
    {
      "cell_type": "markdown",
      "metadata": {
        "id": "1azn7yqink1t"
      },
      "source": [
        "**RANDOM WALK**\r\n",
        "\r\n",
        "When a dice is rolled for 'n' times and if random steps are taken from the succession, then its called a Random Walk. \r\n",
        "\r\n",
        "**Loops with Lists** are used to record every step for a **Random Walk**.\r\n",
        "\r\n",
        "Lists are gradually built using loop when random generator is used. "
      ]
    },
    {
      "cell_type": "markdown",
      "metadata": {
        "id": "lQGVtwNpoeS0"
      },
      "source": [
        "**Code that uses Random Generator that keeps outcomes for playing a game of heads and tails for ten times.**"
      ]
    },
    {
      "cell_type": "markdown",
      "metadata": {
        "id": "WeuAVWLvwaHx"
      },
      "source": [
        "1. First initialize NumPy and define Random assigning random seed value. \r\n",
        "\r\n",
        "    import numpy as np\r\n",
        "    \r\n",
        "    np.random.seed(123)\r\n",
        "\r\n",
        "2. Intilaize an empty list to store all the obtain values, with name 'outcomes'.\r\n",
        "\r\n",
        "    outcomes = [] \r\n",
        "\r\n",
        "3. Define a for loop to run the process and define the its range using range()\r\n",
        "\r\n",
        "funciton (to run 10 times).\r\n",
        "\r\n",
        "    for x in range(10):\r\n",
        "\r\n",
        "4. Since its a coin tossing game we have only two expected outcomes either heads\r\n",
        "\r\n",
        "(when its '0')  or tails (when its '1'). So, we define a random generator and \r\n",
        "\r\n",
        "store the obtained values in coin. \r\n",
        "\r\n",
        "    coin = np.random.randint(0,2)\r\n",
        "\r\n",
        "5. We define an if-else condition, to selectively assign heads or tails and use \r\n",
        "\r\n",
        "append() function, to add elements into 'outcomes list'\r\n",
        "\r\n",
        "    if coin == 0:\r\n",
        "      outcomes.append(\"heads\")\r\n",
        "    else : \r\n",
        "      outcomes.append(\"tails\")\r\n",
        "    "
      ]
    },
    {
      "cell_type": "code",
      "metadata": {
        "colab": {
          "base_uri": "https://localhost:8080/"
        },
        "id": "sNV9XNDNoee4",
        "outputId": "b36271cb-fd76-4fba-e136-d8a5827d7679"
      },
      "source": [
        "import numpy as np \r\n",
        "np.random.seed(123)\r\n",
        "\r\n",
        "outcomes = []\r\n",
        "\r\n",
        "for x in range(10):\r\n",
        "  coin = np.random.randint(0,2)\r\n",
        "  if coin == 0: \r\n",
        "    outcomes.append(\"heads\")\r\n",
        "  else: \r\n",
        "    outcomes.append(\"tails\")\r\n",
        "\r\n",
        "print(outcomes)    "
      ],
      "execution_count": null,
      "outputs": [
        {
          "output_type": "stream",
          "text": [
            "['heads', 'tails', 'heads', 'heads', 'heads', 'heads', 'heads', 'tails', 'tails', 'heads']\n"
          ],
          "name": "stdout"
        }
      ]
    },
    {
      "cell_type": "markdown",
      "metadata": {
        "id": "HJEqLM-W2J8X"
      },
      "source": [
        "The above obtained list is not random walk as the values generated aren't based on previous ones. \r\n",
        "\r\n",
        "we can convert this by simply convert into random walk by tracking the total number of tails while simulation. \r\n",
        "\r\n",
        "First we initialize the tails to zero since we dont walk at first\r\n",
        " \r\n",
        "    Tails = [0]\r\n",
        "\r\n",
        "Now we run the for loop in range of 10 \r\n",
        "\r\n",
        "Instead of for loop we just  "
      ]
    },
    {
      "cell_type": "code",
      "metadata": {
        "colab": {
          "base_uri": "https://localhost:8080/"
        },
        "id": "6SxQi3tk3Wdt",
        "outputId": "46e89530-8856-4ac4-a2f9-cca3a37ad87b"
      },
      "source": [
        "import numpy as np \r\n",
        "np.random.seed(123)\r\n",
        "tails = [0]\r\n",
        "for x in range(10):\r\n",
        "  coin = np.random.randint(0,2)\r\n",
        "  tails.append(tails[x] + coin)\r\n",
        "print(tails) \r\n",
        " \r\n",
        "\r\n",
        "# here final element shows how often a c "
      ],
      "execution_count": null,
      "outputs": [
        {
          "output_type": "stream",
          "text": [
            "[0, 0, 1, 1, 1, 1, 1, 1, 2, 3, 3]\n"
          ],
          "name": "stdout"
        }
      ]
    }
  ]
}
